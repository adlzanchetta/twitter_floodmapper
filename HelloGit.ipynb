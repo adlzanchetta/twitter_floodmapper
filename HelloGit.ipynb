{
  "nbformat": 4,
  "nbformat_minor": 0,
  "metadata": {
    "colab": {
      "name": "HelloGit.ipynb",
      "version": "0.3.2",
      "provenance": [],
      "collapsed_sections": [],
      "include_colab_link": true
    },
    "kernelspec": {
      "name": "python3",
      "display_name": "Python 3"
    }
  },
  "cells": [
    {
      "cell_type": "markdown",
      "metadata": {
        "id": "view-in-github",
        "colab_type": "text"
      },
      "source": [
        "<a href=\"https://colab.research.google.com/github/adlzanchetta/twitter_floodmapper/blob/master/HelloGit.ipynb\" target=\"_parent\"><img src=\"https://colab.research.google.com/assets/colab-badge.svg\" alt=\"Open In Colab\"/></a>"
      ]
    },
    {
      "metadata": {
        "colab_type": "code",
        "id": "zuGyW4dB-q4d",
        "colab": {}
      },
      "cell_type": "code",
      "source": [
        "# Gets the data\n",
        "%%bash\n",
        "if ! [ -d \".git\" ]; then\n",
        "  git init\n",
        "  git remote add origin https://github.com/adlzanchetta/twitter_floodmapper.git\n",
        "fi\n",
        "git pull origin master"
      ],
      "execution_count": 0,
      "outputs": []
    },
    {
      "metadata": {
        "id": "3QvaNlN66Mcr",
        "colab_type": "code",
        "colab": {}
      },
      "cell_type": "code",
      "source": [
        "# Tells where we are\n",
        "%%bash\n",
        "pwd\n",
        "ls -lh\n"
      ],
      "execution_count": 0,
      "outputs": []
    },
    {
      "metadata": {
        "id": "7uHKHnnhza6T",
        "colab_type": "code",
        "colab": {
          "base_uri": "https://localhost:8080/",
          "height": 35
        },
        "outputId": "1e03a4e5-1c1e-40c8-f10d-8c66111d2483"
      },
      "cell_type": "code",
      "source": [
        "print(\"Hello GIT\")"
      ],
      "execution_count": 42,
      "outputs": [
        {
          "output_type": "stream",
          "text": [
            "Hello GIT\n"
          ],
          "name": "stdout"
        }
      ]
    }
  ]
}