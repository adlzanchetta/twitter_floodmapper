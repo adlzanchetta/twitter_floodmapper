{
  "nbformat": 4,
  "nbformat_minor": 0,
  "metadata": {
    "colab": {
      "name": "HelloGit.ipynb",
      "version": "0.3.2",
      "provenance": [],
      "collapsed_sections": [],
      "include_colab_link": true
    },
    "kernelspec": {
      "name": "python3",
      "display_name": "Python 3"
    }
  },
  "cells": [
    {
      "cell_type": "markdown",
      "metadata": {
        "id": "view-in-github",
        "colab_type": "text"
      },
      "source": [
        "<a href=\"https://colab.research.google.com/github/adlzanchetta/twitter_floodmapper/blob/master/HelloGit.ipynb\" target=\"_parent\"><img src=\"https://colab.research.google.com/assets/colab-badge.svg\" alt=\"Open In Colab\"/></a>"
      ]
    },
    {
      "metadata": {
        "id": "VhCBsw1ky5xy",
        "colab_type": "code",
        "colab": {
          "base_uri": "https://localhost:8080/",
          "height": 303
        },
        "outputId": "4df5ac44-6b40-4666-fabe-464148ce6f3d"
      },
      "cell_type": "code",
      "source": [
        "%%bash\n",
        "rm -R .git\n",
        "if [ -d \".git\" ]; then\n",
        "  echo \"Already a git repository.\"\n",
        "else\n",
        "  git init\n",
        "  git remote add origin https://github.com/adlzanchetta/twitter_floodmapper.git\n",
        "  git pull origin master\n",
        "  git add HelloGit.inpynb\n",
        "fi"
      ],
      "execution_count": 30,
      "outputs": [
        {
          "output_type": "stream",
          "text": [
            "Initialized empty Git repository in /content/.git/\n"
          ],
          "name": "stdout"
        },
        {
          "output_type": "stream",
          "text": [
            "From https://github.com/adlzanchetta/twitter_floodmapper\n",
            " * branch            master     -> FETCH_HEAD\n",
            " * [new branch]      master     -> origin/master\n",
            "error: The following untracked working tree files would be overwritten by merge:\n",
            "\tLICENSE\n",
            "\tREADME.md\n",
            "\tdata_tweets/andre01/twitter_results.json\n",
            "\tdata_tweets/andre01/twitter_search.json\n",
            "\ttool_tweets_harvester/.idea/vcs.xml\n",
            "\ttool_tweets_harvester/main.py\n",
            "\ttool_tweets_harvester/twitterfloodmapper/QueryLib.py\n",
            "\ttool_tweets_harvester/twitterfloodmapper/__init__.py\n",
            "Please move or remove them before you merge.\n",
            "Aborting\n",
            "fatal: pathspec 'HelloGit.inpynb' did not match any files\n"
          ],
          "name": "stderr"
        }
      ]
    },
    {
      "metadata": {
        "id": "3QvaNlN66Mcr",
        "colab_type": "code",
        "colab": {
          "base_uri": "https://localhost:8080/",
          "height": 142
        },
        "outputId": "5c62f371-3637-4186-93aa-d1b89afd1fb4"
      },
      "cell_type": "code",
      "source": [
        "!pwd\n",
        "!ls -lh"
      ],
      "execution_count": 35,
      "outputs": [
        {
          "output_type": "stream",
          "text": [
            "/content\n",
            "total 36K\n",
            "drwxr-xr-x 3 root root 4.0K Jan 29 17:36 data_tweets\n",
            "-rw-r--r-- 1 root root  18K Jan 29 17:36 LICENSE\n",
            "-rw-r--r-- 1 root root   96 Jan 29 17:36 README.md\n",
            "drwxr-xr-x 1 root root 4.0K Jan  8 17:15 sample_data\n",
            "drwxr-xr-x 4 root root 4.0K Jan 29 17:36 tool_tweets_harvester\n"
          ],
          "name": "stdout"
        }
      ]
    },
    {
      "metadata": {
        "id": "7uHKHnnhza6T",
        "colab_type": "code",
        "colab": {
          "base_uri": "https://localhost:8080/",
          "height": 214
        },
        "outputId": "11df8045-5b47-4c2e-9a24-343775a06bc6"
      },
      "cell_type": "code",
      "source": [
        "print(\"Hello GIT\")\n",
        "\n",
        "!git pull origin master\n",
        "!git commit HelloGit.ipynb\n",
        "!git push origin master"
      ],
      "execution_count": 29,
      "outputs": [
        {
          "output_type": "stream",
          "text": [
            "Hello GIT\n",
            "remote: Enumerating objects: 17, done.\u001b[K\n",
            "remote: Counting objects: 100% (17/17), done.\u001b[K\n",
            "remote: Compressing objects: 100% (14/14), done.\u001b[K\n",
            "remote: Total 17 (delta 1), reused 13 (delta 0), pack-reused 0\u001b[K\n",
            "Unpacking objects: 100% (17/17), done.\n",
            "From https://github.com/adlzanchetta/twitter_floodmapper\n",
            " * branch            master     -> FETCH_HEAD\n",
            " * [new branch]      master     -> origin/master\n",
            "error: pathspec 'HelloGit.ipynb' did not match any file(s) known to git.\n",
            "fatal: could not read Username for 'https://github.com': No such device or address\n"
          ],
          "name": "stdout"
        }
      ]
    }
  ]
}